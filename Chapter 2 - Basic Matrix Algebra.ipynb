{
 "cells": [
  {
   "cell_type": "code",
   "execution_count": 1,
   "metadata": {},
   "outputs": [],
   "source": [
    "import matplotlib.pyplot as plt\n",
    "import numpy as np\n",
    "from mpl_toolkits.mplot3d import Axes3D\n",
    "import scipy as sp\n",
    "import sympy as sy\n",
    "sy.init_printing() "
   ]
  },
  {
   "cell_type": "code",
   "execution_count": 2,
   "metadata": {},
   "outputs": [],
   "source": [
    "np.set_printoptions(precision=3)\n",
    "np.set_printoptions(suppress=True)"
   ]
  },
  {
   "cell_type": "code",
   "execution_count": 3,
   "metadata": {},
   "outputs": [],
   "source": [
    "from IPython.core.interactiveshell import InteractiveShell\n",
    "InteractiveShell.ast_node_interactivity = \"all\" # display multiple results"
   ]
  },
  {
   "cell_type": "code",
   "execution_count": 4,
   "metadata": {},
   "outputs": [],
   "source": [
    "def round_expr(expr, num_digits):\n",
    "    return expr.xreplace({n : round(n, num_digits) for n in expr.atoms(sy.Number)})"
   ]
  },
  {
   "cell_type": "markdown",
   "metadata": {},
   "source": [
    "# <font face=\"gotham\" color=\"purple\"> Matrix Operations</font>"
   ]
  },
  {
   "attachments": {
    "image-2.png": {
     "image/png": "[encoded data removed]"
    },
    "image-3.png": {
     "image/png": "[encoded data removed]"
    },
    "image-4.png": {
     "image/png": "[encoded data removed]"
    },
    "image.png": {
     "image/png": "[encoded data removed]"
    }
   },
   "cell_type": "markdown",
   "metadata": {},
   "source": [
    " 1 矩阵的由来？\n",
    " > 为来简化线性方程组的写法，直接把系数，和结果的值写成一个 数据块（增广矩阵）。\n",
    "\n",
    " 2 矩阵乘法的由来？\n",
    " > 为来求解这个线性方程组，求解过程\n",
    " \n",
    "![image.png](attachment:image.png)\n",
    "![image-2.png](attachment:image-2.png)\n",
    "![image-3.png](attachment:image-3.png)\n",
    "![image-4.png](attachment:image-4.png)\n",
    "\n",
    "矩阵数学公式 md 写法\n",
    "```\n",
    "\\begin{matrix}\n",
    "10 & 12 \\\\\n",
    "20 & 8\n",
    "\\end{matrix}\n",
    "```\n",
    "\n",
    "\n"
   ]
  },
  {
   "cell_type": "markdown",
   "metadata": {},
   "source": [
    "Matrix _addition_ operations are straightforward:\n",
    "1. $A+ B= B+ A$\n",
    "2. $(A+B)+ C=A+(B+C)$\n",
    "3. $c(A+B)=cA+cB$\n",
    "4. $(c+d)A=cA+c{D}$\n",
    "5. $c(dA)=(cd)A$\n",
    "6. $A+{0}=A$, where ${0}$ is the zero matrix\n",
    "7. For any $A$, there exists an $- A$, such that $ A+(- A)=0$.\n",
    "\n",
    "They are as obvious as it looks, so no proofs are provided. And the matrix _multiplication_ properties are:\n",
    "1. $ A({BC})=({AB}) C$\n",
    "2. $c({AB})=(cA)B=A(cB)$\n",
    "3. $A(B+ C)={AB}+{AC}$\n",
    "4. $(B+C)A={BA}+{CA}$"
   ]
  },
  {
   "cell_type": "markdown",
   "metadata": {},
   "source": [
    "Note that we need to differentiate two kinds of multiplication, **Hadamard multiplication** (element-wise multiplication) and **matrix multiplication**: "
   ]
  },
  {
   "cell_type": "code",
   "execution_count": 20,
   "metadata": {},
   "outputs": [],
   "source": [
    "A = np.array([[1, 2], [3, 4]])\n",
    "B = np.array([[5, 6], [7, 8]])"
   ]
  },
  {
   "cell_type": "markdown",
   "metadata": {},
   "source": [
    "哈达玛积,对应元素相乘， 在numpy 和 sympy  中 * 和 @ 是不同的"
   ]
  },
  {
   "cell_type": "code",
   "execution_count": 7,
   "metadata": {},
   "outputs": [
    {
     "data": {
      "text/plain": [
       "array([[ 5, 12],\n",
       "       [21, 32]])"
      ]
     },
     "execution_count": 7,
     "metadata": {},
     "output_type": "execute_result"
    }
   ],
   "source": [
    "A*B # this is Hadamard elementwise product"
   ]
  },
  {
   "cell_type": "markdown",
   "metadata": {},
   "source": [
    "矩阵乘法规则运算,在numpy 中使用 @ 或者 numpy.dot() 函数进行"
   ]
  },
  {
   "cell_type": "code",
   "execution_count": 21,
   "metadata": {},
   "outputs": [
    {
     "data": {
      "text/plain": [
       "array([[19, 22],\n",
       "       [43, 50]])"
      ]
     },
     "execution_count": 21,
     "metadata": {},
     "output_type": "execute_result"
    },
    {
     "data": {
      "text/plain": [
       "array([[19, 22],\n",
       "       [43, 50]])"
      ]
     },
     "execution_count": 21,
     "metadata": {},
     "output_type": "execute_result"
    }
   ],
   "source": [
    "A@B # this is matrix product\n",
    "\n",
    "A.dot(B)"
   ]
  },
  {
   "cell_type": "markdown",
   "metadata": {},
   "source": [
    "We show explicitly the matrix multiplication rule:"
   ]
  },
  {
   "cell_type": "code",
   "execution_count": 10,
   "metadata": {},
   "outputs": [
    {
     "data": {
      "text/plain": [
       "array([ 5, 14])"
      ]
     },
     "execution_count": 10,
     "metadata": {},
     "output_type": "execute_result"
    },
    {
     "data": {
      "text/plain": [
       "array([15, 28])"
      ]
     },
     "execution_count": 10,
     "metadata": {},
     "output_type": "execute_result"
    },
    {
     "data": {
      "text/plain": [
       "array([ 6, 16])"
      ]
     },
     "execution_count": 10,
     "metadata": {},
     "output_type": "execute_result"
    },
    {
     "data": {
      "text/plain": [
       "array([18, 32])"
      ]
     },
     "execution_count": 10,
     "metadata": {},
     "output_type": "execute_result"
    },
    {
     "data": {
      "text/plain": [
       "19"
      ]
     },
     "execution_count": 10,
     "metadata": {},
     "output_type": "execute_result"
    },
    {
     "data": {
      "text/plain": [
       "43"
      ]
     },
     "execution_count": 10,
     "metadata": {},
     "output_type": "execute_result"
    },
    {
     "data": {
      "text/plain": [
       "22"
      ]
     },
     "execution_count": 10,
     "metadata": {},
     "output_type": "execute_result"
    },
    {
     "data": {
      "text/plain": [
       "50"
      ]
     },
     "execution_count": 10,
     "metadata": {},
     "output_type": "execute_result"
    }
   ],
   "source": [
    "A[0,:]*B[:,0]\n",
    "A[1,:]*B[:,0]\n",
    "A[0,:]*B[:,1]\n",
    "A[1,:]*B[:,1]\n",
    "np.sum(A[0,:]*B[:,0]) # (1, 1)\n",
    "np.sum(A[1,:]*B[:,0]) # (2, 1)\n",
    "np.sum(A[0,:]*B[:,1]) # (1, 2)\n",
    "np.sum(A[1,:]*B[:,1]) # (2, 2)"
   ]
  },
  {
   "cell_type": "markdown",
   "metadata": {},
   "source": [
    "## <font face=\"gotham\" color=\"purple\"> SymPy Demonstration: Addition </font>"
   ]
  },
  {
   "cell_type": "markdown",
   "metadata": {},
   "source": [
    "Let's define all the letters as symbols in case we might use them repetitively."
   ]
  },
  {
   "cell_type": "code",
   "execution_count": 13,
   "metadata": {},
   "outputs": [],
   "source": [
    "a, b, c, d, e, f, g, h, i, j, k, l, m, n, o, p, q, r, s, t, u, v, w, x, y, z = sy.symbols('a, b, c, d, e, f, g, h, i, j, k, l, m, n, o, p, q, r, s, t, u, v, w, x, y, z', real = True)"
   ]
  },
  {
   "cell_type": "code",
   "execution_count": 14,
   "metadata": {},
   "outputs": [
    {
     "data": {
      "text/latex": [
       "$\\displaystyle \\left[\\begin{matrix}2 a & 2 b & 2 c\\\\2 d & 2 e & 2 f\\end{matrix}\\right]$"
      ],
      "text/plain": [
       "⎡2⋅a  2⋅b  2⋅c⎤\n",
       "⎢             ⎥\n",
       "⎣2⋅d  2⋅e  2⋅f⎦"
      ]
     },
     "execution_count": 14,
     "metadata": {},
     "output_type": "execute_result"
    },
    {
     "data": {
      "text/latex": [
       "$\\displaystyle \\left[\\begin{matrix}0 & 0 & 0\\\\0 & 0 & 0\\end{matrix}\\right]$"
      ],
      "text/plain": [
       "⎡0  0  0⎤\n",
       "⎢       ⎥\n",
       "⎣0  0  0⎦"
      ]
     },
     "execution_count": 14,
     "metadata": {},
     "output_type": "execute_result"
    }
   ],
   "source": [
    "A = sy.Matrix([[a, b, c], [d, e, f]])\n",
    "A + A\n",
    "A - A"
   ]
  },
  {
   "cell_type": "code",
   "execution_count": 15,
   "metadata": {},
   "outputs": [
    {
     "data": {
      "text/latex": [
       "$\\displaystyle \\left[\\begin{matrix}a + g & b + h & c + i\\\\d + j & e + k & f + l\\end{matrix}\\right]$"
      ],
      "text/plain": [
       "⎡a + g  b + h  c + i⎤\n",
       "⎢                   ⎥\n",
       "⎣d + j  e + k  f + l⎦"
      ]
     },
     "execution_count": 15,
     "metadata": {},
     "output_type": "execute_result"
    },
    {
     "data": {
      "text/latex": [
       "$\\displaystyle \\left[\\begin{matrix}a - g & b - h & c - i\\\\d - j & e - k & f - l\\end{matrix}\\right]$"
      ],
      "text/plain": [
       "⎡a - g  b - h  c - i⎤\n",
       "⎢                   ⎥\n",
       "⎣d - j  e - k  f - l⎦"
      ]
     },
     "execution_count": 15,
     "metadata": {},
     "output_type": "execute_result"
    }
   ],
   "source": [
    "B = sy.Matrix([[g, h, i], [j, k, l]])\n",
    "A + B\n",
    "A - B"
   ]
  },
  {
   "cell_type": "markdown",
   "metadata": {},
   "source": [
    "`` 矩阵的加法和减法运算必须在形状（行数和列数）相同的矩阵之间进行``\n"
   ]
  },
  {
   "cell_type": "markdown",
   "metadata": {},
   "source": [
    "## <font face=\"gotham\" color=\"purple\"> SymPy Demonstration: Multiplication </font>"
   ]
  },
  {
   "cell_type": "markdown",
   "metadata": {},
   "source": [
    "The matrix multiplication rules can be clearly understood by using symbols."
   ]
  },
  {
   "cell_type": "code",
   "execution_count": 16,
   "metadata": {},
   "outputs": [
    {
     "data": {
      "text/latex": [
       "$\\displaystyle \\left[\\begin{matrix}a & b & c\\\\d & e & f\\end{matrix}\\right]$"
      ],
      "text/plain": [
       "⎡a  b  c⎤\n",
       "⎢       ⎥\n",
       "⎣d  e  f⎦"
      ]
     },
     "execution_count": 16,
     "metadata": {},
     "output_type": "execute_result"
    },
    {
     "data": {
      "text/latex": [
       "$\\displaystyle \\left[\\begin{matrix}g & h & i\\\\j & k & l\\\\m & n & o\\end{matrix}\\right]$"
      ],
      "text/plain": [
       "⎡g  h  i⎤\n",
       "⎢       ⎥\n",
       "⎢j  k  l⎥\n",
       "⎢       ⎥\n",
       "⎣m  n  o⎦"
      ]
     },
     "execution_count": 16,
     "metadata": {},
     "output_type": "execute_result"
    }
   ],
   "source": [
    "A = sy.Matrix([[a, b, c], [d, e, f]])\n",
    "B = sy.Matrix([[g, h, i], [j, k, l], [m, n, o]])\n",
    "A\n",
    "B"
   ]
  },
  {
   "cell_type": "markdown",
   "metadata": {},
   "source": [
    "在 sympy 中  *  和 @ 都是乘法，应为 *被重写了"
   ]
  },
  {
   "cell_type": "code",
   "execution_count": 18,
   "metadata": {},
   "outputs": [
    {
     "data": {
      "text/latex": [
       "$\\displaystyle \\left[\\begin{matrix}a g + b j + c m & a h + b k + c n & a i + b l + c o\\\\d g + e j + f m & d h + e k + f n & d i + e l + f o\\end{matrix}\\right]$"
      ],
      "text/plain": [
       "⎡a⋅g + b⋅j + c⋅m  a⋅h + b⋅k + c⋅n  a⋅i + b⋅l + c⋅o⎤\n",
       "⎢                                                 ⎥\n",
       "⎣d⋅g + e⋅j + f⋅m  d⋅h + e⋅k + f⋅n  d⋅i + e⋅l + f⋅o⎦"
      ]
     },
     "execution_count": 18,
     "metadata": {},
     "output_type": "execute_result"
    },
    {
     "data": {
      "text/latex": [
       "$\\displaystyle \\left[\\begin{matrix}a g + b j + c m & a h + b k + c n & a i + b l + c o\\\\d g + e j + f m & d h + e k + f n & d i + e l + f o\\end{matrix}\\right]$"
      ],
      "text/plain": [
       "⎡a⋅g + b⋅j + c⋅m  a⋅h + b⋅k + c⋅n  a⋅i + b⋅l + c⋅o⎤\n",
       "⎢                                                 ⎥\n",
       "⎣d⋅g + e⋅j + f⋅m  d⋅h + e⋅k + f⋅n  d⋅i + e⋅l + f⋅o⎦"
      ]
     },
     "execution_count": 18,
     "metadata": {},
     "output_type": "execute_result"
    }
   ],
   "source": [
    "AB = A*B; AB\n",
    "ab= A@B; ab"
   ]
  },
  {
   "cell_type": "markdown",
   "metadata": {},
   "source": [
    "## <font face=\"gotham\" color=\"purple\"> Commutability </font>"
   ]
  },
  {
   "cell_type": "markdown",
   "metadata": {},
   "source": [
    "The matrix multiplication usually do not commute, such that ${AB} \\neq {BA}$. For instance, consider $ A$ and $ B$:"
   ]
  },
  {
   "cell_type": "code",
   "execution_count": 28,
   "metadata": {},
   "outputs": [
    {
     "data": {
      "text/latex": [
       "$\\displaystyle \\left[\\begin{matrix}23 & 13\\\\51 & 29\\end{matrix}\\right]$"
      ],
      "text/plain": [
       "⎡23  13⎤\n",
       "⎢      ⎥\n",
       "⎣51  29⎦"
      ]
     },
     "execution_count": 28,
     "metadata": {},
     "output_type": "execute_result"
    },
    {
     "data": {
      "text/latex": [
       "$\\displaystyle \\left[\\begin{matrix}36 & 44\\\\13 & 16\\end{matrix}\\right]$"
      ],
      "text/plain": [
       "⎡36  44⎤\n",
       "⎢      ⎥\n",
       "⎣13  16⎦"
      ]
     },
     "execution_count": 28,
     "metadata": {},
     "output_type": "execute_result"
    }
   ],
   "source": [
    "A = sy.Matrix([[3, 4], [7, 8]])\n",
    "B = sy.Matrix([[5, 3], [2, 1]])\n",
    "A*B\n",
    "B*A"
   ]
  },
  {
   "cell_type": "markdown",
   "metadata": {},
   "source": [
    "How do we find a commutable matrix?"
   ]
  },
  {
   "cell_type": "code",
   "execution_count": 22,
   "metadata": {},
   "outputs": [
    {
     "data": {
      "text/latex": [
       "$\\displaystyle \\left[\\begin{matrix}a e + b g & a f + b h\\\\c e + d g & c f + d h\\end{matrix}\\right]$"
      ],
      "text/plain": [
       "⎡a⋅e + b⋅g  a⋅f + b⋅h⎤\n",
       "⎢                    ⎥\n",
       "⎣c⋅e + d⋅g  c⋅f + d⋅h⎦"
      ]
     },
     "execution_count": 22,
     "metadata": {},
     "output_type": "execute_result"
    },
    {
     "data": {
      "text/latex": [
       "$\\displaystyle \\left[\\begin{matrix}a e + c f & b e + d f\\\\a g + c h & b g + d h\\end{matrix}\\right]$"
      ],
      "text/plain": [
       "⎡a⋅e + c⋅f  b⋅e + d⋅f⎤\n",
       "⎢                    ⎥\n",
       "⎣a⋅g + c⋅h  b⋅g + d⋅h⎦"
      ]
     },
     "execution_count": 22,
     "metadata": {},
     "output_type": "execute_result"
    }
   ],
   "source": [
    "A = sy.Matrix([[a, b], [c, d]])\n",
    "B = sy.Matrix([[e, f], [g, h]])\n",
    "A*B\n",
    "B*A"
   ]
  },
  {
   "cell_type": "markdown",
   "metadata": {},
   "source": [
    "To show ${AB} = {BA}$, we need to prove ${AB} - {BA} = 0$"
   ]
  },
  {
   "cell_type": "code",
   "execution_count": 30,
   "metadata": {},
   "outputs": [
    {
     "data": {
      "text/latex": [
       "$\\displaystyle \\left[\\begin{matrix}b g - c f & a f - b e + b h - d f\\\\- a g + c e - c h + d g & - b g + c f\\end{matrix}\\right]$"
      ],
      "text/plain": [
       "⎡      b⋅g - c⋅f         a⋅f - b⋅e + b⋅h - d⋅f⎤\n",
       "⎢                                             ⎥\n",
       "⎣-a⋅g + c⋅e - c⋅h + d⋅g       -b⋅g + c⋅f      ⎦"
      ]
     },
     "execution_count": 30,
     "metadata": {},
     "output_type": "execute_result"
    }
   ],
   "source": [
    "M = A*B - B*A; M"
   ]
  },
  {
   "cell_type": "markdown",
   "metadata": {},
   "source": [
    "That means\n",
    "\n",
    "\\begin{align}\n",
    "b g - c f&=0 \\\\\n",
    "a f - b e + b h - d f&=0\\\\\n",
    "- a g + c e - c h + d g&=0 \\\\\n",
    "- b g + c f&=0\n",
    "\\end{align}"
   ]
  },
  {
   "cell_type": "markdown",
   "metadata": {},
   "source": [
    "If we treat $a, b, c, d$ as coefficients of the system, we and extract an augmented matrix"
   ]
  },
  {
   "cell_type": "code",
   "execution_count": 31,
   "metadata": {},
   "outputs": [
    {
     "data": {
      "text/latex": [
       "$\\displaystyle \\left[\\begin{matrix}0 & - c & b & 0\\\\- b & a - d & 0 & b\\\\c & 0 & - a + d & - c\\\\0 & c & - b & 0\\end{matrix}\\right]$"
      ],
      "text/plain": [
       "⎡0    -c      b     0 ⎤\n",
       "⎢                     ⎥\n",
       "⎢-b  a - d    0     b ⎥\n",
       "⎢                     ⎥\n",
       "⎢c     0    -a + d  -c⎥\n",
       "⎢                     ⎥\n",
       "⎣0     c      -b    0 ⎦"
      ]
     },
     "execution_count": 31,
     "metadata": {},
     "output_type": "execute_result"
    }
   ],
   "source": [
    "A_aug = sy.Matrix([[0, -c, b, 0], [-b, a-d, 0, b], [c, 0, d -a, -c], [0, c, -b, 0]]); A_aug"
   ]
  },
  {
   "cell_type": "markdown",
   "metadata": {},
   "source": [
    "Perform **Gaussian-Jordon** elimination till row reduced formed."
   ]
  },
  {
   "cell_type": "code",
   "execution_count": 32,
   "metadata": {},
   "outputs": [
    {
     "data": {
      "text/latex": [
       "$\\displaystyle \\left( \\left[\\begin{matrix}1 & 0 & - \\frac{a}{c} + \\frac{d}{c} & -1\\\\0 & 1 & - \\frac{b}{c} & 0\\\\0 & 0 & 0 & 0\\\\0 & 0 & 0 & 0\\end{matrix}\\right], \\  \\left( 0, \\  1\\right)\\right)$"
      ],
      "text/plain": [
       "⎛⎡        a   d    ⎤        ⎞\n",
       "⎜⎢1  0  - ─ + ─  -1⎥        ⎟\n",
       "⎜⎢        c   c    ⎥        ⎟\n",
       "⎜⎢                 ⎥        ⎟\n",
       "⎜⎢        -b       ⎥        ⎟\n",
       "⎜⎢0  1    ───    0 ⎥, (0, 1)⎟\n",
       "⎜⎢         c       ⎥        ⎟\n",
       "⎜⎢                 ⎥        ⎟\n",
       "⎜⎢0  0     0     0 ⎥        ⎟\n",
       "⎜⎢                 ⎥        ⎟\n",
       "⎝⎣0  0     0     0 ⎦        ⎠"
      ]
     },
     "execution_count": 32,
     "metadata": {},
     "output_type": "execute_result"
    }
   ],
   "source": [
    "A_aug.rref()"
   ]
  },
  {
   "cell_type": "markdown",
   "metadata": {},
   "source": [
    "The general solution is \n",
    "\\begin{align}\n",
    "e - \\frac{a-d}cg - h &=0\\\\\n",
    "f - \\frac{b}{c} & =0\\\\\n",
    "g &= free\\\\\n",
    "h & =free\n",
    "\\end{align}"
   ]
  },
  {
   "cell_type": "markdown",
   "metadata": {},
   "source": [
    "if we set coefficients $a = 10, b = 12, c = 20, d = 8$, or $ A = \\left[\\begin{matrix}10 & 12\\\\20 & 8\\end{matrix}\\right]$ then general solution becomes\n",
    "\n",
    "\n",
    "\\begin{align}\n",
    "e - .1g - h &=0\\\\\n",
    "f - .6 & =0\\\\\n",
    "g &= free\\\\\n",
    "h & =free\n",
    "\\end{align}\n",
    "Then try a special solution when $g = h = 1$\n",
    "\\begin{align}\n",
    "e  &=1.1\\\\\n",
    "f & =.6\\\\\n",
    "g &=1 \\\\\n",
    "h & =1\n",
    "\\end{align}\n",
    "And this is a **commutable matrix of $A$**, we denote $ C$."
   ]
  },
  {
   "cell_type": "code",
   "execution_count": 33,
   "metadata": {},
   "outputs": [
    {
     "data": {
      "text/latex": [
       "$\\displaystyle \\left[\\begin{matrix}1.1 & 0.6\\\\1 & 1\\end{matrix}\\right]$"
      ],
      "text/plain": [
       "⎡1.1  0.6⎤\n",
       "⎢        ⎥\n",
       "⎣ 1    1 ⎦"
      ]
     },
     "execution_count": 33,
     "metadata": {},
     "output_type": "execute_result"
    }
   ],
   "source": [
    "C = sy.Matrix([[1.1, .6], [1, 1]]);C"
   ]
  },
  {
   "cell_type": "markdown",
   "metadata": {},
   "source": [
    "Now we can see that ${AC}={CA}$."
   ]
  },
  {
   "cell_type": "code",
   "execution_count": 34,
   "metadata": {},
   "outputs": [
    {
     "data": {
      "text/latex": [
       "$\\displaystyle \\left[\\begin{matrix}23.0 & 18.0\\\\30.0 & 20.0\\end{matrix}\\right]$"
      ],
      "text/plain": [
       "⎡23.0  18.0⎤\n",
       "⎢          ⎥\n",
       "⎣30.0  20.0⎦"
      ]
     },
     "execution_count": 34,
     "metadata": {},
     "output_type": "execute_result"
    },
    {
     "data": {
      "text/latex": [
       "$\\displaystyle \\left[\\begin{matrix}23.0 & 18.0\\\\30 & 20\\end{matrix}\\right]$"
      ],
      "text/plain": [
       "⎡23.0  18.0⎤\n",
       "⎢          ⎥\n",
       "⎣ 30    20 ⎦"
      ]
     },
     "execution_count": 34,
     "metadata": {},
     "output_type": "execute_result"
    }
   ],
   "source": [
    "A = sy.Matrix([[10, 12], [20, 8]])\n",
    "A*C\n",
    "C*A"
   ]
  },
  {
   "cell_type": "markdown",
   "metadata": {},
   "source": [
    "# <font face=\"gotham\" color=\"purple\"> Transpose of Matrices </font>"
   ]
  },
  {
   "cell_type": "markdown",
   "metadata": {},
   "source": [
    "Matrix $A_{n\\times m}$ and its transpose is ; 转置就是把 行变成列，或者把列变成行"
   ]
  },
  {
   "cell_type": "code",
   "execution_count": 35,
   "metadata": {},
   "outputs": [
    {
     "data": {
      "text/plain": [
       "array([[1, 2, 3],\n",
       "       [4, 5, 6]])"
      ]
     },
     "execution_count": 35,
     "metadata": {},
     "output_type": "execute_result"
    },
    {
     "data": {
      "text/plain": [
       "array([[1, 4],\n",
       "       [2, 5],\n",
       "       [3, 6]])"
      ]
     },
     "execution_count": 35,
     "metadata": {},
     "output_type": "execute_result"
    }
   ],
   "source": [
    "A = np.array([[1, 2, 3], [4, 5, 6]]); A\n",
    "A.T # transpose"
   ]
  },
  {
   "cell_type": "code",
   "execution_count": 36,
   "metadata": {},
   "outputs": [
    {
     "data": {
      "text/latex": [
       "$\\displaystyle \\left[\\begin{matrix}1 & 2 & 3\\\\4 & 5 & 6\\end{matrix}\\right]$"
      ],
      "text/plain": [
       "⎡1  2  3⎤\n",
       "⎢       ⎥\n",
       "⎣4  5  6⎦"
      ]
     },
     "execution_count": 36,
     "metadata": {},
     "output_type": "execute_result"
    },
    {
     "data": {
      "text/latex": [
       "$\\displaystyle \\left[\\begin{matrix}1 & 4\\\\2 & 5\\\\3 & 6\\end{matrix}\\right]$"
      ],
      "text/plain": [
       "⎡1  4⎤\n",
       "⎢    ⎥\n",
       "⎢2  5⎥\n",
       "⎢    ⎥\n",
       "⎣3  6⎦"
      ]
     },
     "execution_count": 36,
     "metadata": {},
     "output_type": "execute_result"
    }
   ],
   "source": [
    "A = sy.Matrix([[1, 2, 3], [4, 5, 6]]); A\n",
    "A.transpose()"
   ]
  },
  {
   "cell_type": "markdown",
   "metadata": {},
   "source": [
    "The properties of transpose are\n",
    "1. $(A^T)^T$\n",
    "2. $(A+B)^T=A^T+B^T$\n",
    "3. $(cA)^T=cA^T$\n",
    "4. $(AB)^T=B^TA^T$\n",
    "\n",
    "We can show why the last property holds with SymPy, define $A$ and $B$, multiply them, then transpose, that means $(AB)^T$"
   ]
  },
  {
   "cell_type": "code",
   "execution_count": 37,
   "metadata": {},
   "outputs": [
    {
     "data": {
      "text/latex": [
       "$\\displaystyle \\left[\\begin{matrix}a g + b j & c g + d j & e g + f j\\\\a h + b k & c h + d k & e h + f k\\\\a i + b l & c i + d l & e i + f l\\end{matrix}\\right]$"
      ],
      "text/plain": [
       "⎡a⋅g + b⋅j  c⋅g + d⋅j  e⋅g + f⋅j⎤\n",
       "⎢                               ⎥\n",
       "⎢a⋅h + b⋅k  c⋅h + d⋅k  e⋅h + f⋅k⎥\n",
       "⎢                               ⎥\n",
       "⎣a⋅i + b⋅l  c⋅i + d⋅l  e⋅i + f⋅l⎦"
      ]
     },
     "execution_count": 37,
     "metadata": {},
     "output_type": "execute_result"
    }
   ],
   "source": [
    "A = sy.Matrix([[a, b], [c, d], [e, f]])\n",
    "B = sy.Matrix([[g, h, i], [j, k, l]])\n",
    "AB = A*B\n",
    "AB_tr = AB.transpose(); AB_tr"
   ]
  },
  {
   "cell_type": "markdown",
   "metadata": {},
   "source": [
    "Transpose each of them, then multiply, that means $B^TA^T$"
   ]
  },
  {
   "cell_type": "code",
   "execution_count": 38,
   "metadata": {},
   "outputs": [
    {
     "data": {
      "text/latex": [
       "$\\displaystyle \\left[\\begin{matrix}a g + b j & c g + d j & e g + f j\\\\a h + b k & c h + d k & e h + f k\\\\a i + b l & c i + d l & e i + f l\\end{matrix}\\right]$"
      ],
      "text/plain": [
       "⎡a⋅g + b⋅j  c⋅g + d⋅j  e⋅g + f⋅j⎤\n",
       "⎢                               ⎥\n",
       "⎢a⋅h + b⋅k  c⋅h + d⋅k  e⋅h + f⋅k⎥\n",
       "⎢                               ⎥\n",
       "⎣a⋅i + b⋅l  c⋅i + d⋅l  e⋅i + f⋅l⎦"
      ]
     },
     "execution_count": 38,
     "metadata": {},
     "output_type": "execute_result"
    }
   ],
   "source": [
    "B_tr_A_tr = B.transpose()*A.transpose()\n",
    "B_tr_A_tr"
   ]
  },
  {
   "cell_type": "markdown",
   "metadata": {},
   "source": [
    "To see if they are equal"
   ]
  },
  {
   "cell_type": "code",
   "execution_count": 39,
   "metadata": {},
   "outputs": [
    {
     "data": {
      "text/latex": [
       "$\\displaystyle \\left[\\begin{matrix}0 & 0 & 0\\\\0 & 0 & 0\\\\0 & 0 & 0\\end{matrix}\\right]$"
      ],
      "text/plain": [
       "⎡0  0  0⎤\n",
       "⎢       ⎥\n",
       "⎢0  0  0⎥\n",
       "⎢       ⎥\n",
       "⎣0  0  0⎦"
      ]
     },
     "execution_count": 39,
     "metadata": {},
     "output_type": "execute_result"
    }
   ],
   "source": [
    "AB_tr - B_tr_A_tr"
   ]
  },
  {
   "cell_type": "markdown",
   "metadata": {},
   "source": [
    "# <font face=\"gotham\" color=\"purple\"> Identity Matrices - 单位矩阵 </font>\n",
    "\n",
    ">对比 线性代数中 一个任意的 x  有 x*z=x   也就是一个以任意的数 乘以一个数还是它自己， 可以得到 z=1 ； 在矩阵中也是这样的 对于一个任意的 n 维矩阵 也存在一个 n维的矩阵 a  和它相乘 使得矩阵不会还是它自己。\n",
    "对角线全是1，其他全是0;"
   ]
  },
  {
   "cell_type": "markdown",
   "metadata": {},
   "source": [
    "This is an identity matrix $I_5$\n",
    "\n",
    ">注意：单位矩阵和线性方程组有本质的联系，为什么是对角线1，其他为0 ？ 每行为什么只有一个1？  为什么1只能在对角线上？ 1 表示 这个自变量没有被删除，对角线，表示每个方程组都不会被消除 并且 全部把 未知数的系数消为一。\n",
    "\n",
    "> 其实也可以联想到 矩阵乘法的一种理解方式： 1 表示这个线性方程组 *1 ； 周围的0 这表示 对应 的方程 乘 *0   最后在把这些方程组给相加"
   ]
  },
  {
   "cell_type": "code",
   "execution_count": 40,
   "metadata": {},
   "outputs": [
    {
     "data": {
      "text/latex": [
       "$\\displaystyle \\left[\\begin{matrix}1 & 0 & 0 & 0 & 0\\\\0 & 1 & 0 & 0 & 0\\\\0 & 0 & 1 & 0 & 0\\\\0 & 0 & 0 & 1 & 0\\\\0 & 0 & 0 & 0 & 1\\end{matrix}\\right]$"
      ],
      "text/plain": [
       "⎡1  0  0  0  0⎤\n",
       "⎢             ⎥\n",
       "⎢0  1  0  0  0⎥\n",
       "⎢             ⎥\n",
       "⎢0  0  1  0  0⎥\n",
       "⎢             ⎥\n",
       "⎢0  0  0  1  0⎥\n",
       "⎢             ⎥\n",
       "⎣0  0  0  0  1⎦"
      ]
     },
     "execution_count": 40,
     "metadata": {},
     "output_type": "execute_result"
    }
   ],
   "source": [
    "sy.eye(5)"
   ]
  },
  {
   "cell_type": "markdown",
   "metadata": {},
   "source": [
    "Identity matrix properties:\n",
    "\n",
    "$$\n",
    "AI=IA = A\n",
    "$$"
   ]
  },
  {
   "cell_type": "markdown",
   "metadata": {},
   "source": [
    "Let's generate $ I$ and $ A$ and show if it holds"
   ]
  },
  {
   "cell_type": "code",
   "execution_count": 41,
   "metadata": {},
   "outputs": [
    {
     "data": {
      "text/plain": [
       "array([[1., 0., 0., 0., 0.],\n",
       "       [0., 1., 0., 0., 0.],\n",
       "       [0., 0., 1., 0., 0.],\n",
       "       [0., 0., 0., 1., 0.],\n",
       "       [0., 0., 0., 0., 1.]])"
      ]
     },
     "execution_count": 41,
     "metadata": {},
     "output_type": "execute_result"
    }
   ],
   "source": [
    "I = np.eye(5); I"
   ]
  },
  {
   "cell_type": "code",
   "execution_count": 42,
   "metadata": {},
   "outputs": [
    {
     "data": {
      "text/plain": [
       "array([[76.,  9., 58., 36., 96.],\n",
       "       [38., 20., 29., 83.,  3.],\n",
       "       [55., 98., 52., 36., 55.],\n",
       "       [63., 99., 39., 17., 26.],\n",
       "       [94., 81., 64., 25., 61.]])"
      ]
     },
     "execution_count": 42,
     "metadata": {},
     "output_type": "execute_result"
    }
   ],
   "source": [
    "A = np.around(np.random.rand(5, 5)*100); A # generate a random matrix"
   ]
  },
  {
   "cell_type": "markdown",
   "metadata": {},
   "source": [
    "Apparently it holds"
   ]
  },
  {
   "cell_type": "code",
   "execution_count": 43,
   "metadata": {},
   "outputs": [
    {
     "data": {
      "text/plain": [
       "array([[0., 0., 0., 0., 0.],\n",
       "       [0., 0., 0., 0., 0.],\n",
       "       [0., 0., 0., 0., 0.],\n",
       "       [0., 0., 0., 0., 0.],\n",
       "       [0., 0., 0., 0., 0.]])"
      ]
     },
     "execution_count": 43,
     "metadata": {},
     "output_type": "execute_result"
    }
   ],
   "source": [
    "A@I - I@A"
   ]
  },
  {
   "cell_type": "markdown",
   "metadata": {},
   "source": [
    "# <font face=\"gotham\" color=\"purple\"> Elementary Matrix 初等矩阵 </font>\n",
    "初等矩阵 是 单位矩阵 经过一次 初等变换得到的。 \n",
    "1. 行和行的变换- 对换变换\n",
    "2. 行× 常数的变换- 倍乘变换\n",
    "3. 行加上 另一行的变换- 加倍变换"
   ]
  },
  {
   "cell_type": "markdown",
   "metadata": {},
   "source": [
    "An **elementary matrix** is a matrix that can be obtained from a single elementary row operation on an identity matrix. Such as:"
   ]
  },
  {
   "cell_type": "markdown",
   "metadata": {},
   "source": [
    "$$\n",
    "[  \n",
    "\\begin{bmatrix}\n",
    "1 & 0 & 0 \\\\\n",
    "0 & 1 & 0 \\\\\n",
    "0 & 0 & 1\n",
    "\\end{bmatrix}\n",
    "\n",
    "\\overset{R_1 \\leftrightarrow R_2}{\\longrightarrow}\n",
    "\n",
    "\\begin{bmatrix}\n",
    "0 & 1 & 0 \\\\\n",
    "1 & 0 & 0 \\\\\n",
    "0 & 0 & 1\n",
    "\\end{bmatrix}\n",
    "]\n",
    "$$"
   ]
  },
  {
   "cell_type": "markdown",
   "metadata": {},
   "source": [
    "where $R_1\\leftrightarrow R_2$ means exchanging row $1$ and row $2$, and we denote the transformed matrix as ${E}$, then left multiply $  E$ onto a matrix $  A$. Generate $ A$ first"
   ]
  },
  {
   "cell_type": "code",
   "execution_count": 44,
   "metadata": {},
   "outputs": [
    {
     "data": {
      "text/latex": [
       "$\\displaystyle \\left[\\begin{matrix}88 & 0 & 97\\\\55 & 9 & 71\\\\0 & 31 & 2\\end{matrix}\\right]$"
      ],
      "text/plain": [
       "⎡88  0   97⎤\n",
       "⎢          ⎥\n",
       "⎢55  9   71⎥\n",
       "⎢          ⎥\n",
       "⎣0   31  2 ⎦"
      ]
     },
     "execution_count": 44,
     "metadata": {},
     "output_type": "execute_result"
    }
   ],
   "source": [
    "A = sy.randMatrix(3, percent = 80); A # generate a random matrix with 80% of entries being nonzero"
   ]
  },
  {
   "cell_type": "markdown",
   "metadata": {},
   "source": [
    "Create an elementary matrix with $R_1\\leftrightarrow R_2$"
   ]
  },
  {
   "cell_type": "code",
   "execution_count": 45,
   "metadata": {},
   "outputs": [
    {
     "data": {
      "text/latex": [
       "$\\displaystyle \\left[\\begin{matrix}0 & 1 & 0\\\\1 & 0 & 0\\\\0 & 0 & 1\\end{matrix}\\right]$"
      ],
      "text/plain": [
       "⎡0  1  0⎤\n",
       "⎢       ⎥\n",
       "⎢1  0  0⎥\n",
       "⎢       ⎥\n",
       "⎣0  0  1⎦"
      ]
     },
     "execution_count": 45,
     "metadata": {},
     "output_type": "execute_result"
    }
   ],
   "source": [
    "E = sy.Matrix([[0, 1, 0], [1, 0, 0], [0, 0, 1]]);E"
   ]
  },
  {
   "cell_type": "markdown",
   "metadata": {},
   "source": [
    "It turns out that by left-multiplying $ E$ onto $ A$, $ A$ also switches the row $1$ and $2$. \n",
    "\n",
    "会发现- 单位矩阵的初等变化 可以映射的  矩阵的变换；交换，乘一个数\n",
    "注意 $E*A$  初等矩阵在左边，和 $A*E$  是不同的，当然也是有规律可寻"
   ]
  },
  {
   "cell_type": "code",
   "execution_count": 46,
   "metadata": {},
   "outputs": [
    {
     "data": {
      "text/latex": [
       "$\\displaystyle \\left[\\begin{matrix}55 & 9 & 71\\\\88 & 0 & 97\\\\0 & 31 & 2\\end{matrix}\\right]$"
      ],
      "text/plain": [
       "⎡55  9   71⎤\n",
       "⎢          ⎥\n",
       "⎢88  0   97⎥\n",
       "⎢          ⎥\n",
       "⎣0   31  2 ⎦"
      ]
     },
     "execution_count": 46,
     "metadata": {},
     "output_type": "execute_result"
    }
   ],
   "source": [
    "E*A"
   ]
  },
  {
   "cell_type": "markdown",
   "metadata": {},
   "source": [
    "Adding a multiple of a row onto another row in the identity matrix also gives us an elementary matrix.\n",
    "\n",
    "$$\n",
    "[\n",
    "\\begin{bmatrix}\n",
    "1 & 0 & 0 \\\\\n",
    "0 & 1 & 0 \\\\\n",
    "0 & 0 & 1\n",
    "\\end{bmatrix}\n",
    "\\overset{R_3 - 7R_1}{\\longrightarrow}\n",
    "\\begin{bmatrix}\n",
    "1 & 0 & 0 \\\\\n",
    "0 & 1 & 0 \\\\\n",
    "-7 & 0 & 1\n",
    "\\end{bmatrix}\n",
    "]\n",
    "$$\n",
    "\n",
    "Let's verify with SymPy."
   ]
  },
  {
   "cell_type": "code",
   "execution_count": 47,
   "metadata": {
    "scrolled": true
   },
   "outputs": [
    {
     "data": {
      "text/latex": [
       "$\\displaystyle \\left[\\begin{matrix}73 & 47 & 0\\\\30 & 63 & 79\\\\82 & 31 & 0\\end{matrix}\\right]$"
      ],
      "text/plain": [
       "⎡73  47  0 ⎤\n",
       "⎢          ⎥\n",
       "⎢30  63  79⎥\n",
       "⎢          ⎥\n",
       "⎣82  31  0 ⎦"
      ]
     },
     "execution_count": 47,
     "metadata": {},
     "output_type": "execute_result"
    },
    {
     "data": {
      "text/latex": [
       "$\\displaystyle \\left[\\begin{matrix}1 & 0 & 0\\\\0 & 1 & 0\\\\-7 & 0 & 1\\end{matrix}\\right]$"
      ],
      "text/plain": [
       "⎡1   0  0⎤\n",
       "⎢        ⎥\n",
       "⎢0   1  0⎥\n",
       "⎢        ⎥\n",
       "⎣-7  0  1⎦"
      ]
     },
     "execution_count": 47,
     "metadata": {},
     "output_type": "execute_result"
    }
   ],
   "source": [
    "A = sy.randMatrix(3, percent = 80); A\n",
    "E = sy.Matrix([[1, 0, 0], [0, 1, 0], [-7, 0, 1]]); E"
   ]
  },
  {
   "cell_type": "code",
   "execution_count": 48,
   "metadata": {},
   "outputs": [
    {
     "data": {
      "text/latex": [
       "$\\displaystyle \\left[\\begin{matrix}73 & 47 & 0\\\\30 & 63 & 79\\\\-429 & -298 & 0\\end{matrix}\\right]$"
      ],
      "text/plain": [
       "⎡ 73    47   0 ⎤\n",
       "⎢              ⎥\n",
       "⎢ 30    63   79⎥\n",
       "⎢              ⎥\n",
       "⎣-429  -298  0 ⎦"
      ]
     },
     "execution_count": 48,
     "metadata": {},
     "output_type": "execute_result"
    }
   ],
   "source": [
    "E*A"
   ]
  },
  {
   "cell_type": "markdown",
   "metadata": {},
   "source": [
    "We can also show this by explicit row operation on $ A$."
   ]
  },
  {
   "cell_type": "code",
   "execution_count": 49,
   "metadata": {
    "scrolled": true
   },
   "outputs": [
    {
     "data": {
      "text/latex": [
       "$\\displaystyle \\left[\\begin{matrix}73 & 47 & 0\\\\30 & 63 & 79\\\\-429 & -298 & 0\\end{matrix}\\right]$"
      ],
      "text/plain": [
       "⎡ 73    47   0 ⎤\n",
       "⎢              ⎥\n",
       "⎢ 30    63   79⎥\n",
       "⎢              ⎥\n",
       "⎣-429  -298  0 ⎦"
      ]
     },
     "execution_count": 49,
     "metadata": {},
     "output_type": "execute_result"
    }
   ],
   "source": [
    "EA = sy.matrices.MatrixBase.copy(A)\n",
    "EA[2,:]=-7*EA[0,:]+EA[2,:]\n",
    "EA"
   ]
  },
  {
   "cell_type": "markdown",
   "metadata": {},
   "source": [
    "In next section, we will see an important conclusion of elementary matrices multiplication is that an **invertible matrix** is a product of a series of elementary matrices."
   ]
  },
  {
   "cell_type": "markdown",
   "metadata": {},
   "source": [
    "# <font face=\"gotham\" color=\"purple\"> Inverse Matrices 逆矩阵</font>"
   ]
  },
  {
   "cell_type": "markdown",
   "metadata": {},
   "source": [
    "If ${AB}={BA}=\\mathbf{I}$, $ B$ is called the inverse of matrix $  A$, denoted as $ B=  A^{-1}$.\n"
   ]
  },
  {
   "cell_type": "markdown",
   "metadata": {},
   "source": [
    "NumPy has convenient function ```np.linalg.inv()``` for computing inverse matrices. Generate $ A$"
   ]
  },
  {
   "cell_type": "code",
   "execution_count": null,
   "metadata": {},
   "outputs": [],
   "source": [
    "A = np.round(10*np.random.randn(5,5)); A"
   ]
  },
  {
   "cell_type": "code",
   "execution_count": 51,
   "metadata": {
    "scrolled": true
   },
   "outputs": [
    {
     "data": {
      "text/plain": [
       "array([[-0.124, -0.047,  0.038, -0.076, -0.144],\n",
       "       [-0.009,  0.062, -0.014,  0.02 ,  0.025],\n",
       "       [ 0.082,  0.05 ,  0.111, -0.011,  0.103],\n",
       "       [ 0.032,  0.047,  0.036,  0.056,  0.112],\n",
       "       [-0.05 , -0.027, -0.007,  0.005, -0.108]])"
      ]
     },
     "execution_count": 51,
     "metadata": {},
     "output_type": "execute_result"
    }
   ],
   "source": [
    "Ainv = np.linalg.inv(A); Ainv"
   ]
  },
  {
   "cell_type": "markdown",
   "metadata": {},
   "source": [
    "Verify if they are truly inverse of each other"
   ]
  },
  {
   "cell_type": "code",
   "execution_count": 52,
   "metadata": {
    "scrolled": true
   },
   "outputs": [
    {
     "data": {
      "text/plain": [
       "array([[ 1., -0., -0., -0.,  0.],\n",
       "       [ 0.,  1., -0.,  0.,  0.],\n",
       "       [ 0., -0.,  1.,  0., -0.],\n",
       "       [ 0., -0., -0.,  1.,  0.],\n",
       "       [ 0.,  0., -0., -0.,  1.]])"
      ]
     },
     "execution_count": 52,
     "metadata": {},
     "output_type": "execute_result"
    }
   ],
   "source": [
    "A@Ainv"
   ]
  },
  {
   "cell_type": "markdown",
   "metadata": {},
   "source": [
    "The ```-0.``` means there are more digits after point, but omitted here."
   ]
  },
  {
   "cell_type": "markdown",
   "metadata": {},
   "source": [
    "\n",
    "## $[A\\,|\\,I] \\sim [I\\,|\\,A^{-1}]$ <font face=\"gotham\" color=\"purple\"> Algorithm </font>\n"
   ]
  },
  {
   "cell_type": "markdown",
   "metadata": {},
   "source": [
    "A convenient way of calculating inverse is that we can construct an augmented matrix $[ A\\,|\\,\\mathbf{I}]$, then multiply a series of $ E$'s which are elementary row operations till matrix $A$ becomes row reduced form, if full rank it means $ A \\rightarrow \\mathbf{I}$. Then $\\mathbf{I}$ on the RHS of augmented matrix will be converted into $ A^{-1}$ automatically. "
   ]
  },
  {
   "cell_type": "markdown",
   "metadata": {},
   "source": [
    "We can show with SymPy's ```.rref()``` function on the augmented matrix $[A\\,|\\,I]$."
   ]
  },
  {
   "cell_type": "code",
   "execution_count": 53,
   "metadata": {},
   "outputs": [
    {
     "data": {
      "text/latex": [
       "$\\displaystyle \\left[\\begin{matrix}-9.0 & -1.0 & 7.0 & -11.0 & 7.0 & 1.0 & 0 & 0 & 0 & 0\\\\-1.0 & 18.0 & 5.0 & -7.0 & 3.0 & 0 & 1.0 & 0 & 0 & 0\\\\3.0 & -4.0 & 6.0 & 6.0 & 7.0 & 0 & 0 & 1.0 & 0 & 0\\\\-4.0 & -4.0 & -2.0 & 12.0 & 15.0 & 0 & 0 & 0 & 1.0 & 0\\\\4.0 & -4.0 & -5.0 & 7.0 & -13.0 & 0 & 0 & 0 & 0 & 1.0\\end{matrix}\\right]$"
      ],
      "text/plain": [
       "⎡-9.0  -1.0  7.0   -11.0   7.0   1.0   0    0    0    0 ⎤\n",
       "⎢                                                       ⎥\n",
       "⎢-1.0  18.0  5.0   -7.0    3.0    0   1.0   0    0    0 ⎥\n",
       "⎢                                                       ⎥\n",
       "⎢3.0   -4.0  6.0    6.0    7.0    0    0   1.0   0    0 ⎥\n",
       "⎢                                                       ⎥\n",
       "⎢-4.0  -4.0  -2.0  12.0   15.0    0    0    0   1.0   0 ⎥\n",
       "⎢                                                       ⎥\n",
       "⎣4.0   -4.0  -5.0   7.0   -13.0   0    0    0    0   1.0⎦"
      ]
     },
     "execution_count": 53,
     "metadata": {},
     "output_type": "execute_result"
    }
   ],
   "source": [
    "AI = np.hstack((A, I)) # stack the matrix A and I horizontally\n",
    "AI = sy.Matrix(AI); AI"
   ]
  },
  {
   "cell_type": "code",
   "execution_count": 54,
   "metadata": {},
   "outputs": [
    {
     "data": {
      "text/latex": [
       "$\\displaystyle \\left( \\left[\\begin{matrix}1 & 0 & 0 & 0 & 0 & -0.123660201747544 & -0.0473344259134291 & 0.0381059218425458 & -0.0757736431119252 & -0.144422144904166\\\\0 & 1 & 0 & 0 & 0 & -0.00907075186454344 & 0.0620842572062084 & -0.0135053416649869 & 0.0199556541019956 & 0.0251965329570651\\\\0 & 0 & 1 & 0 & 0 & 0.0821801354916172 & 0.0495999228766991 & 0.111245979509741 & -0.0112310806902535 & 0.102639720252754\\\\0 & 0 & 0 & 1 & 0 & 0.0316994294628537 & 0.0472862238503808 & 0.0360858172002489 & 0.0563482117034609 & 0.11242912105729\\\\0 & 0 & 0 & 0 & 1 & -0.049797113134624 & -0.0272823676853369 & -0.00747570177821793 & 0.00520582280921623 & -0.108051497331358\\end{matrix}\\right], \\  \\left( 0, \\  1, \\  2, \\  3, \\  4\\right)\\right)$"
      ],
      "text/plain": [
       "⎛⎡1  0  0  0  0   -0.123660201747544   -0.0473344259134291   0.038105921842545\n",
       "⎜⎢                                                                            \n",
       "⎜⎢0  1  0  0  0  -0.00907075186454344  0.0620842572062084   -0.013505341664986\n",
       "⎜⎢                                                                            \n",
       "⎜⎢0  0  1  0  0   0.0821801354916172   0.0495999228766991    0.111245979509741\n",
       "⎜⎢                                                                            \n",
       "⎜⎢0  0  0  1  0   0.0316994294628537   0.0472862238503808    0.036085817200248\n",
       "⎜⎢                                                                            \n",
       "⎝⎣0  0  0  0  1   -0.049797113134624   -0.0272823676853369  -0.007475701778217\n",
       "\n",
       "8   -0.0757736431119252  -0.144422144904166⎤                 ⎞\n",
       "                                           ⎥                 ⎟\n",
       "9   0.0199556541019956   0.0251965329570651⎥                 ⎟\n",
       "                                           ⎥                 ⎟\n",
       "    -0.0112310806902535  0.102639720252754 ⎥, (0, 1, 2, 3, 4)⎟\n",
       "                                           ⎥                 ⎟\n",
       "9   0.0563482117034609    0.11242912105729 ⎥                 ⎟\n",
       "                                           ⎥                 ⎟\n",
       "93  0.00520582280921623  -0.108051497331358⎦                 ⎠"
      ]
     },
     "execution_count": 54,
     "metadata": {},
     "output_type": "execute_result"
    }
   ],
   "source": [
    "AI_rref = AI.rref(); AI_rref"
   ]
  },
  {
   "cell_type": "markdown",
   "metadata": {},
   "source": [
    "Extract the RHS block, this is the $A^{-1}$."
   ]
  },
  {
   "cell_type": "code",
   "execution_count": 55,
   "metadata": {},
   "outputs": [
    {
     "data": {
      "text/latex": [
       "$\\displaystyle \\left[\\begin{matrix}-0.123660201747544 & -0.0473344259134291 & 0.0381059218425458 & -0.0757736431119252 & -0.144422144904166\\\\-0.00907075186454344 & 0.0620842572062084 & -0.0135053416649869 & 0.0199556541019956 & 0.0251965329570651\\\\0.0821801354916172 & 0.0495999228766991 & 0.111245979509741 & -0.0112310806902535 & 0.102639720252754\\\\0.0316994294628537 & 0.0472862238503808 & 0.0360858172002489 & 0.0563482117034609 & 0.11242912105729\\\\-0.049797113134624 & -0.0272823676853369 & -0.00747570177821793 & 0.00520582280921623 & -0.108051497331358\\end{matrix}\\right]$"
      ],
      "text/plain": [
       "⎡ -0.123660201747544   -0.0473344259134291   0.0381059218425458   -0.075773643\n",
       "⎢                                                                             \n",
       "⎢-0.00907075186454344  0.0620842572062084   -0.0135053416649869   0.0199556541\n",
       "⎢                                                                             \n",
       "⎢ 0.0821801354916172   0.0495999228766991    0.111245979509741    -0.011231080\n",
       "⎢                                                                             \n",
       "⎢ 0.0316994294628537   0.0472862238503808    0.0360858172002489   0.0563482117\n",
       "⎢                                                                             \n",
       "⎣ -0.049797113134624   -0.0272823676853369  -0.00747570177821793  0.0052058228\n",
       "\n",
       "1119252  -0.144422144904166⎤\n",
       "                           ⎥\n",
       "019956   0.0251965329570651⎥\n",
       "                           ⎥\n",
       "6902535  0.102639720252754 ⎥\n",
       "                           ⎥\n",
       "034609    0.11242912105729 ⎥\n",
       "                           ⎥\n",
       "0921623  -0.108051497331358⎦"
      ]
     },
     "execution_count": 55,
     "metadata": {},
     "output_type": "execute_result"
    }
   ],
   "source": [
    "Ainv = AI_rref[0][:,5:];Ainv # extract the RHS block"
   ]
  },
  {
   "cell_type": "markdown",
   "metadata": {},
   "source": [
    "I wrote a function to round the float numbers to the $4$th digits, on the top of this file, but this is not absolutely necessary."
   ]
  },
  {
   "cell_type": "code",
   "execution_count": 56,
   "metadata": {},
   "outputs": [
    {
     "data": {
      "text/latex": [
       "$\\displaystyle \\left[\\begin{matrix}-0.1237 & -0.0473 & 0.0381 & -0.0758 & -0.1444\\\\-0.0091 & 0.0621 & -0.0135 & 0.02 & 0.0252\\\\0.0822 & 0.0496 & 0.1112 & -0.0112 & 0.1026\\\\0.0317 & 0.0473 & 0.0361 & 0.0563 & 0.1124\\\\-0.0498 & -0.0273 & -0.0075 & 0.0052 & -0.1081\\end{matrix}\\right]$"
      ],
      "text/plain": [
       "⎡-0.1237  -0.0473  0.0381   -0.0758  -0.1444⎤\n",
       "⎢                                           ⎥\n",
       "⎢-0.0091  0.0621   -0.0135   0.02    0.0252 ⎥\n",
       "⎢                                           ⎥\n",
       "⎢0.0822   0.0496   0.1112   -0.0112  0.1026 ⎥\n",
       "⎢                                           ⎥\n",
       "⎢0.0317   0.0473   0.0361   0.0563   0.1124 ⎥\n",
       "⎢                                           ⎥\n",
       "⎣-0.0498  -0.0273  -0.0075  0.0052   -0.1081⎦"
      ]
     },
     "execution_count": 56,
     "metadata": {},
     "output_type": "execute_result"
    }
   ],
   "source": [
    "round_expr(Ainv, 4) "
   ]
  },
  {
   "cell_type": "markdown",
   "metadata": {},
   "source": [
    "We can verify if $AA^{-1}=\\mathbf{I}$"
   ]
  },
  {
   "cell_type": "code",
   "execution_count": 57,
   "metadata": {},
   "outputs": [
    {
     "data": {
      "text/latex": [
       "$\\displaystyle \\left[\\begin{matrix}1.0 & 0 & 0 & 0 & 0\\\\0 & 1.0 & 0 & 0 & 0\\\\0 & 0 & 1.0 & 0 & 0\\\\0 & 0 & 0 & 1.0 & 0\\\\0 & 0 & 0 & 0 & 1.0\\end{matrix}\\right]$"
      ],
      "text/plain": [
       "⎡1.0   0    0    0    0 ⎤\n",
       "⎢                       ⎥\n",
       "⎢ 0   1.0   0    0    0 ⎥\n",
       "⎢                       ⎥\n",
       "⎢ 0    0   1.0   0    0 ⎥\n",
       "⎢                       ⎥\n",
       "⎢ 0    0    0   1.0   0 ⎥\n",
       "⎢                       ⎥\n",
       "⎣ 0    0    0    0   1.0⎦"
      ]
     },
     "execution_count": 57,
     "metadata": {},
     "output_type": "execute_result"
    }
   ],
   "source": [
    "A = sy.Matrix(A)\n",
    "round_expr(A*Ainv, 4) "
   ]
  },
  {
   "cell_type": "markdown",
   "metadata": {},
   "source": [
    "We got $\\mathbf{I}$, which means the RHS block is indeed $A^{-1}$."
   ]
  },
  {
   "cell_type": "markdown",
   "metadata": {},
   "source": [
    "## <font face=\"gotham\" color=\"purple\"> An Example of Existence of Inverse </font>"
   ]
  },
  {
   "cell_type": "markdown",
   "metadata": {},
   "source": [
    "Determine the values of $\\lambda$ such that the matrix\n",
    "$$A=\\left[ \\begin{matrix}3 &\\lambda &1\\cr 2 & -1 & 6\\cr 1 & 9 & 4\\end{matrix}\\right]$$\n",
    "is not invertible.\n",
    "> 引入一个 $\\lambda$ 满足矩阵可逆\n",
    "\n",
    "> 问题： 矩阵的可逆 在线性方程组中的 又表示什么？"
   ]
  },
  {
   "cell_type": "markdown",
   "metadata": {},
   "source": [
    "Still,we are using SymPy to solve the problem."
   ]
  },
  {
   "cell_type": "code",
   "execution_count": 58,
   "metadata": {},
   "outputs": [
    {
     "data": {
      "text/plain": [
       "array([[3, lamda, 1],\n",
       "       [2, -1, 6],\n",
       "       [1, 9, 4]], dtype=object)"
      ]
     },
     "execution_count": 58,
     "metadata": {},
     "output_type": "execute_result"
    }
   ],
   "source": [
    "lamb = sy.symbols('lamda') # SymPy will automatically render into LaTeX greek letters\n",
    "A = np.array([[3, lamb, 1], [2, -1, 6], [1, 9, 4]])\n",
    "I = np.eye(3); A"
   ]
  },
  {
   "cell_type": "markdown",
   "metadata": {},
   "source": [
    "Form the augmented matrix."
   ]
  },
  {
   "cell_type": "code",
   "execution_count": 59,
   "metadata": {},
   "outputs": [
    {
     "data": {
      "text/latex": [
       "$\\displaystyle \\left[\\begin{matrix}3 & \\lambda & 1 & 1.0 & 0 & 0\\\\2 & -1 & 6 & 0 & 1.0 & 0\\\\1 & 9 & 4 & 0 & 0 & 1.0\\end{matrix}\\right]$"
      ],
      "text/plain": [
       "⎡3  λ   1  1.0   0    0 ⎤\n",
       "⎢                       ⎥\n",
       "⎢2  -1  6   0   1.0   0 ⎥\n",
       "⎢                       ⎥\n",
       "⎣1  9   4   0    0   1.0⎦"
      ]
     },
     "execution_count": 59,
     "metadata": {},
     "output_type": "execute_result"
    }
   ],
   "source": [
    "AI = np.hstack((A, I))\n",
    "AI = sy.Matrix(AI); AI"
   ]
  },
  {
   "cell_type": "code",
   "execution_count": 60,
   "metadata": {},
   "outputs": [
    {
     "data": {
      "text/latex": [
       "$\\displaystyle \\left( \\left[\\begin{matrix}1 & 0 & 0 & \\frac{116.0}{4.0 \\lambda + 310.0} & \\frac{8.0 \\lambda - 18.0}{4.0 \\lambda + 310.0} & \\frac{- 12.0 \\lambda - 2.0}{4.0 \\lambda + 310.0}\\\\0 & 1 & 0 & \\frac{4.0}{4.0 \\lambda + 310.0} & - \\frac{22.0}{4.0 \\lambda + 310.0} & \\frac{32.0}{4.0 \\lambda + 310.0}\\\\0 & 0 & 1 & \\frac{57.0}{- 6 \\lambda - 465} & \\frac{27.0 - 1.0 \\lambda}{2.0 \\lambda + 155.0} & \\frac{2.0 \\lambda + 3.0}{2.0 \\lambda + 155.0}\\end{matrix}\\right], \\  \\left( 0, \\  1, \\  2\\right)\\right)$"
      ],
      "text/plain": [
       "⎛⎡             116.0       8.0⋅λ - 18.0  -12.0⋅λ - 2.0⎤           ⎞\n",
       "⎜⎢1  0  0  ─────────────  ─────────────  ─────────────⎥           ⎟\n",
       "⎜⎢         4.0⋅λ + 310.0  4.0⋅λ + 310.0  4.0⋅λ + 310.0⎥           ⎟\n",
       "⎜⎢                                                    ⎥           ⎟\n",
       "⎜⎢              4.0           -22.0           32.0    ⎥           ⎟\n",
       "⎜⎢0  1  0  ─────────────  ─────────────  ─────────────⎥, (0, 1, 2)⎟\n",
       "⎜⎢         4.0⋅λ + 310.0  4.0⋅λ + 310.0  4.0⋅λ + 310.0⎥           ⎟\n",
       "⎜⎢                                                    ⎥           ⎟\n",
       "⎜⎢             57.0          27.0 - λ     2.0⋅λ + 3.0 ⎥           ⎟\n",
       "⎜⎢0  0  1   ──────────    ─────────────  ─────────────⎥           ⎟\n",
       "⎝⎣          -6⋅λ - 465    2.0⋅λ + 155.0  2.0⋅λ + 155.0⎦           ⎠"
      ]
     },
     "execution_count": 60,
     "metadata": {},
     "output_type": "execute_result"
    }
   ],
   "source": [
    "AI_rref = AI.rref()\n",
    "AI_rref"
   ]
  },
  {
   "cell_type": "markdown",
   "metadata": {},
   "source": [
    "To make the matrix $A$ invertible we notice that is one conditions to be satisfied (in the denominators):\n",
    "\\begin{align}\n",
    "-6\\lambda -465 &\\neq0\\\\\n",
    "\\end{align}"
   ]
  },
  {
   "cell_type": "markdown",
   "metadata": {},
   "source": [
    "Solve for $\\lambda$'s."
   ]
  },
  {
   "cell_type": "code",
   "execution_count": 61,
   "metadata": {},
   "outputs": [
    {
     "data": {
      "image/png": "[encoded data removed]",
      "text/latex": [
       "$\\displaystyle \\left[ - \\frac{155}{2}\\right]$"
      ],
      "text/plain": [
       "[-155/2]"
      ]
     },
     "execution_count": 61,
     "metadata": {},
     "output_type": "execute_result"
    }
   ],
   "source": [
    "sy.solvers.solve(-6*lamb-465, lamb)"
   ]
  },
  {
   "cell_type": "markdown",
   "metadata": {},
   "source": [
    "So this is one of $\\lambda$ that cause the matrix invertible. Let's test with **determinant**. If $| A|=0$, then the matrix is not invertible. Don't worry about determinants, we will get back to this. "
   ]
  },
  {
   "cell_type": "code",
   "execution_count": 62,
   "metadata": {},
   "outputs": [
    {
     "data": {
      "image/png": "[encoded data removed]",
      "text/latex": [
       "$\\displaystyle 0.0$"
      ],
      "text/plain": [
       "0.0"
      ]
     },
     "execution_count": 62,
     "metadata": {},
     "output_type": "execute_result"
    }
   ],
   "source": [
    "A = np.array([[3, -155/2, 1], [2, -1, 6], [1, 9, 4]])\n",
    "np.linalg.det(A)"
   ]
  },
  {
   "cell_type": "markdown",
   "metadata": {},
   "source": [
    "The $| A|$ is $0$. \n",
    "\n",
    "So we found that one condition, as long as $\\lambda \\neq -\\frac{155}{2}$, the matrix $A$ is invertible."
   ]
  },
  {
   "cell_type": "markdown",
   "metadata": {},
   "source": [
    "## <font face=\"gotham\" color=\"purple\"> Properties of Inverse Matrices </font>"
   ]
  },
  {
   "cell_type": "markdown",
   "metadata": {},
   "source": [
    "1. If $A$ and $B$ are both invertible, then $(AB)^{-1}=B^{-1}A^{-1}$.\n",
    "2. If $A$ is invertible, then $(A^T)^{-1}=(A^{-1})^T$.\n",
    "3. If $A$ and $B$ are both invertible and symmetric such that $AB=BA$, then $A^{-1}B$ is symmetric."
   ]
  },
  {
   "cell_type": "markdown",
   "metadata": {},
   "source": [
    "The _first property_ is straightforward\n",
    "\\begin{align}\n",
    "ABB^{-1}A^{-1}=AIA^{-1}=I=AB(AB)^{-1}\n",
    "\\end{align}"
   ]
  },
  {
   "cell_type": "markdown",
   "metadata": {},
   "source": [
    "The trick of _second property_ is to show that\n",
    "$$\n",
    "A^T(A^{-1})^T = I\n",
    "$$\n",
    "We can use the property of transpose\n",
    "$$\n",
    "A^T(A^{-1})^T=(A^{-1}A)^T = I^T = I\n",
    "$$"
   ]
  },
  {
   "cell_type": "markdown",
   "metadata": {},
   "source": [
    "The _third property_ is to show\n",
    "$$\n",
    "A^{-1}B = (A^{-1}B)^T\n",
    "$$\n",
    "Again use the property of transpose\n",
    "$$\n",
    "(A^{-1}B)^{T}=B^T(A^{-1})^T=B(A^T)^{-1}=BA^{-1}\n",
    "$$\n",
    "We use the $AB = BA$ condition to proceed\n",
    "\\begin{align}\n",
    "AB&=BA\\\\\n",
    "A^{-1}ABA^{-1}&=A^{-1}BAA^{-1}\\\\\n",
    "BA^{-1}&=A^{-1}B\n",
    "\\end{align}\n",
    "The plug in the previous equation, we have\n",
    "$$\n",
    "(A^{-1}B)^{T}=BA^{-1}=A^{-1}B\n",
    "$$"
   ]
  }
 ],
 "metadata": {
  "kernelspec": {
   "display_name": "Python 3",
   "language": "python",
   "name": "python3"
  },
  "language_info": {
   "codemirror_mode": {
    "name": "ipython",
    "version": 3
   },
   "file_extension": ".py",
   "mimetype": "text/x-python",
   "name": "python",
   "nbconvert_exporter": "python",
   "pygments_lexer": "ipython3",
   "version": "3.7.16"
  },
  "toc": {
   "base_numbering": 1,
   "nav_menu": {},
   "number_sections": true,
   "sideBar": true,
   "skip_h1_title": false,
   "title_cell": "Table of Contents",
   "title_sidebar": "Contents",
   "toc_cell": false,
   "toc_position": {},
   "toc_section_display": true,
   "toc_window_display": false
  }
 },
 "nbformat": 4,
 "nbformat_minor": 4
}
